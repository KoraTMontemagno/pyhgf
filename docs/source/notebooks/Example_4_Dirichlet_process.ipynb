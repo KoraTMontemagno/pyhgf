{
 "cells": [
  {
   "cell_type": "markdown",
   "id": "593ec81d-d8ba-4bbe-b106-920c53505de1",
   "metadata": {},
   "source": [
    "(example_2)=\n",
    "# Non-parametric predictive coding using Dirichlet process nodes"
   ]
  },
  {
   "cell_type": "code",
   "execution_count": 1,
   "id": "cdb405dd-6279-4eae-826e-9863a09c32de",
   "metadata": {},
   "outputs": [],
   "source": [
    "import numpy as np\n",
    "import matplotlib.pyplot as plt\n",
    "from matplotlib.animation import FuncAnimation\n",
    "from IPython.display import HTML\n",
    "from IPython.display import display\n",
    "import seaborn as sns\n",
    "from scipy.stats import multinomial, norm\n",
    "import jax.numpy as jnp\n",
    "from functools import partial\n",
    "from jax import jit\n",
    "from pyhgf.networks import concatenate_networks, add_coupling\n",
    "from typing import Dict\n",
    "from pyhgf.typing import Edges, InputIndexes\n",
    "from pyhgf.model import HGF\n",
    "from pyhgf.math import gaussian_surprise\n",
    "\n",
    "from jax import config\n",
    "config.update(\"jax_disable_jit\", True)"
   ]
  },
  {
   "cell_type": "markdown",
   "id": "8dfa98d4-a606-45cb-8522-ae383016bb37",
   "metadata": {},
   "source": [
    "PyHGF is built on a modular framework that allows working with programmatically pure functions, which means that the structure of the network, as well as the update steps connecting the nodes, are parameters of the belief propagation functions. Most applications of predictive coding neural networks are mostly concerned with the update of the attributes of the network during inference. However, one consequence of this parametrisation is that networks can change their structure during the belief propagation, for example as a function of the prediction errors elicited by the observation. This concept is often referred to as a self-organizing neural network (see for example {cite:p}`Najarro:2023`).\n",
    "\n",
    "Having a network that can change shape as a function of incoming observations can be a powerful tool if we do not want to parametrise too rigidly our model beforehand, but instead want to let its complexity grow infinitely as observations grow infinitely, a property that is central for nonparametric Bayesian modelling {cite:p}`Gershman2012`. In this notebook, we illustrate how this idea can be applied to create a network that can grow and remove branches and approximates the evolution of a [Dirichlet process](https://en.wikipedia.org/wiki/Dirichlet_process)."
   ]
  },
  {
   "cell_type": "markdown",
   "id": "ead17e7b-29a4-4bd4-a12e-c0f9f18a6dba",
   "metadata": {},
   "source": [
    "## Example 1: Clustering observations from a Gaussian mixture\n",
    "### Create the dataset"
   ]
  },
  {
   "cell_type": "code",
   "execution_count": 2,
   "id": "af8b5668-e86c-43d5-a419-e0b7e07bb616",
   "metadata": {},
   "outputs": [],
   "source": [
    "# simulate a dataset\n",
    "n_trials = 100\n",
    "\n",
    "def get_value():\n",
    "    cat = multinomial(n=1, p=[.2, .2, .6]).rvs()\n",
    "    vals = np.random.normal([0, 2, 4], .2)\n",
    "    return (cat * vals).sum()\n",
    "\n",
    "input_data = []\n",
    "for i in range(n_trials):\n",
    "    input_data.append(get_value())"
   ]
  },
  {
   "cell_type": "code",
   "execution_count": 3,
   "id": "009265a4-fa31-4c4d-bf68-22f0ba8b081c",
   "metadata": {},
   "outputs": [
    {
     "data": {
      "image/png": "[encoded data removed]",
      "text/plain": [
       "<Figure size 640x480 with 1 Axes>"
      ]
     },
     "metadata": {},
     "output_type": "display_data"
    }
   ],
   "source": [
    "sns.histplot(x=input_data, alpha=.2, bins=40);"
   ]
  },
  {
   "cell_type": "markdown",
   "id": "1b98699b-95d7-4fba-a5ce-dffe9e619c56",
   "metadata": {},
   "source": [
    "### Create the Dirichlet process node\n",
    "#### The base branch"
   ]
  },
  {
   "cell_type": "markdown",
   "id": "ec41e456-1400-4aba-b5f5-a528f69355dd",
   "metadata": {},
   "source": [
    "The first component required by the Dirichlet process node is the base branch. This network has a role similar to the base distribution in the Dirichlet process and should encode the structure of the branch that is duplicated. Here, we start with a simple one-level continuous HGF with both a volatility and value parent. This network will try to learn the mean precision of a latent variable (see also {ref)`Example_2_Input_node_volatility_coupling`)."
   ]
  },
  {
   "cell_type": "code",
   "execution_count": 4,
   "id": "2ddafa82-de8f-4cf1-b302-8c881a9c7e07",
   "metadata": {},
   "outputs": [
    {
     "name": "stdout",
     "output_type": "stream",
     "text": [
      "Initializing a network with custom node structure.\n"
     ]
    }
   ],
   "source": [
    "# create the Dirichlet node structure\n",
    "base_network = (\n",
    "    HGF(model_type=None)\n",
    "    .add_nodes(\n",
    "        kind=\"continuous-input\", \n",
    "        node_parameters={\"input_noise\": 1.0, \"expected_precision\": 1.0}\n",
    "    )\n",
    "    .add_nodes(\n",
    "        value_children=0, \n",
    "        node_parameters={\"tonic_volatility\": 0.0, \"precision\":.5}\n",
    "    )\n",
    "    .add_nodes(volatility_children=0)\n",
    ").set_update_sequence()"
   ]
  },
  {
   "cell_type": "code",
   "execution_count": 5,
   "id": "1efe95ba-aef8-4c65-8160-adc41d280b43",
   "metadata": {},
   "outputs": [
    {
     "data": {
      "image/svg+xml": [
       "<?xml version=\"1.0\" encoding=\"UTF-8\" standalone=\"no\"?>\n",
       "<!DOCTYPE svg PUBLIC \"-//W3C//DTD SVG 1.1//EN\"\n",
       " \"http://www.w3.org/Graphics/SVG/1.1/DTD/svg11.dtd\">\n",
       "<!-- Generated by graphviz version 8.0.5 (20230506.1012)\n",
       " -->\n",
       "<!-- Title: hgf&#45;nodes Pages: 1 -->\n",
       "<svg width=\"90pt\" height=\"188pt\"\n",
       " viewBox=\"0.00 0.00 90.00 188.00\" xmlns=\"http://www.w3.org/2000/svg\" xmlns:xlink=\"http://www.w3.org/1999/xlink\">\n",
       "<g id=\"graph0\" class=\"graph\" transform=\"scale(1 1) rotate(0) translate(4 184)\">\n",
       "<title>hgf&#45;nodes</title>\n",
       "<polygon fill=\"white\" stroke=\"none\" points=\"-4,4 -4,-184 86,-184 86,4 -4,4\"/>\n",
       "<!-- x_0 -->\n",
       "<g id=\"node1\" class=\"node\">\n",
       "<title>x_0</title>\n",
       "<ellipse fill=\"lightgrey\" stroke=\"black\" cx=\"41\" cy=\"-18\" rx=\"33.85\" ry=\"18\"/>\n",
       "<text text-anchor=\"middle\" x=\"41\" y=\"-13.32\" font-family=\"Times,serif\" font-size=\"14.00\">Co&#45;0</text>\n",
       "</g>\n",
       "<!-- x_1 -->\n",
       "<g id=\"node2\" class=\"node\">\n",
       "<title>x_1</title>\n",
       "<ellipse fill=\"none\" stroke=\"black\" cx=\"18\" cy=\"-90\" rx=\"18\" ry=\"18\"/>\n",
       "<text text-anchor=\"middle\" x=\"18\" y=\"-85.33\" font-family=\"Times,serif\" font-size=\"14.00\">1</text>\n",
       "</g>\n",
       "<!-- x_1&#45;&gt;x_0 -->\n",
       "<g id=\"edge1\" class=\"edge\">\n",
       "<title>x_1&#45;&gt;x_0</title>\n",
       "<path fill=\"none\" stroke=\"black\" d=\"M23.45,-72.41C26.02,-64.59 29.15,-55.06 32.05,-46.23\"/>\n",
       "<polygon fill=\"black\" stroke=\"black\" points=\"35.63,-47.55 35.43,-36.96 28.98,-45.36 35.63,-47.55\"/>\n",
       "</g>\n",
       "<!-- x_2 -->\n",
       "<g id=\"node3\" class=\"node\">\n",
       "<title>x_2</title>\n",
       "<ellipse fill=\"none\" stroke=\"black\" cx=\"64\" cy=\"-162\" rx=\"18\" ry=\"18\"/>\n",
       "<text text-anchor=\"middle\" x=\"64\" y=\"-157.32\" font-family=\"Times,serif\" font-size=\"14.00\">2</text>\n",
       "</g>\n",
       "<!-- x_2&#45;&gt;x_0 -->\n",
       "<g id=\"edge2\" class=\"edge\">\n",
       "<title>x_2&#45;&gt;x_0</title>\n",
       "<path fill=\"none\" stroke=\"gray\" stroke-dasharray=\"5,2\" d=\"M61.23,-143.87C57.24,-119.24 49.85,-73.64 45.19,-44.88\"/>\n",
       "<ellipse fill=\"gray\" stroke=\"gray\" cx=\"44.5\" cy=\"-40.63\" rx=\"4\" ry=\"4\"/>\n",
       "</g>\n",
       "</g>\n",
       "</svg>\n"
      ],
      "text/plain": [
       "<graphviz.sources.Source at 0x7f1e7fba14f0>"
      ]
     },
     "execution_count": 5,
     "metadata": {},
     "output_type": "execute_result"
    }
   ],
   "source": [
    "base_network.plot_network()"
   ]
  },
  {
   "cell_type": "markdown",
   "id": "a47d4f57-2802-4c82-8cdd-e42ff3b4c563",
   "metadata": {},
   "source": [
    "#### The likelihood function\n",
    "The second component is the likelihood function of the base network. This function will be used by every branch of the Dirichlet node to compare the likelihood of every new observation. This function should point to the input node(s) of the given branch. Here, the likelihood is simply the Gaussian likelihood given the mean and precision of the underlying distribution."
   ]
  },
  {
   "cell_type": "code",
   "execution_count": 6,
   "id": "81168af8-5cb1-412a-aa02-58c8a1b6d984",
   "metadata": {},
   "outputs": [],
   "source": [
    "from jax.scipy.stats.norm import logpdf\n",
    "\n",
    "def log_likelihood_fn(input_idx, value, attributes, edges):\n",
    "\n",
    "    value_parent_idx = edges[input_idx].value_parents[0]\n",
    "    logp = - gaussian_surprise(\n",
    "        x=value, \n",
    "        expected_mean=attributes[value_parent_idx][\"mean\"],\n",
    "        expected_precision=attributes[input_idx][\"expected_precision\"]\n",
    "    )\n",
    "\n",
    "    # hyperprior on cluster mean\n",
    "    logp += logpdf(\n",
    "        x=attributes[value_parent_idx][\"mean\"],\n",
    "        loc=0,\n",
    "        scale=100,\n",
    "    )\n",
    "\n",
    "    return logp"
   ]
  },
  {
   "cell_type": "markdown",
   "id": "9156875b-3ce7-4aef-b0f7-38f742d7b82c",
   "metadata": {},
   "source": [
    "#### The branching function\n",
    "Finally, the third component of the Dirichlet node is the branching function. This function generates a new branch if no other branch can better explain the new incoming observation. Creating a new branch is a two-step process:\n",
    "1. Creating the network structure.\n",
    "2. Parametrizing the attribute of the network.\n",
    "The first step is straightforward and mainly requires merging a new *base branch* in the network. The second step should decide which priors to use for the new branch, which involves non-trivial arbitrary decisions as - by definition - this new branch has only observed one data point so far."
   ]
  },
  {
   "cell_type": "code",
   "execution_count": 7,
   "id": "cbaba85d-2c43-4009-a6be-67006d0e4819",
   "metadata": {},
   "outputs": [],
   "source": [
    "def parametrize_cluster_fn(input_idx, value, attributes, edges):\n",
    "\n",
    "    # parametrize a distribution centred on the new value\n",
    "    value_parent_idx = edges[input_idx].value_parents[0]\n",
    "    attributes[value_parent_idx][\"mean\"] = value\n",
    "    attributes[value_parent_idx][\"expected_mean\"] = value\n",
    "\n",
    "    return attributes"
   ]
  },
  {
   "cell_type": "code",
   "execution_count": 8,
   "id": "e66d789f-20fc-4fc5-9c81-c7780df6b9bb",
   "metadata": {},
   "outputs": [],
   "source": [
    "import copy\n",
    "\n",
    "def create_cluster_fn(\n",
    "    attributes, \n",
    "    edges, \n",
    "    input_nodes_idx, \n",
    "    base_network,\n",
    "    dirichlet_node,\n",
    "    dirichlet_node_idx: int = 0\n",
    "):\n",
    "    \"\"\"Create and parametrize a new cluster given a set of observed values\"\"\"\n",
    "    \n",
    "    base_ = copy.deepcopy(base_network)\n",
    "    \n",
    "    network_size = len(attributes)\n",
    "\n",
    "    # the input indexes for the new branch\n",
    "    cluster_input_idxs = [idx + network_size for idx in base_.input_nodes_idx.idx]\n",
    "    new_cluster_input_idxs = dirichlet_node.cluster_input_idxs + tuple(cluster_input_idxs)\n",
    "    dirichlet_node = dirichlet_node._replace(cluster_input_idxs = new_cluster_input_idxs)\n",
    "\n",
    "    # merge the new branch with the existing one\n",
    "    attributes, edges = concatenate_networks(\n",
    "        attributes_1=base_.attributes, \n",
    "        attributes_2=attributes,\n",
    "        edges_1=base_.edges, \n",
    "        edges_2=edges\n",
    "    )\n",
    "\n",
    "    # add count for this new cluster\n",
    "    attributes[dirichlet_node_idx][\"n\"].append(0)\n",
    "\n",
    "    # create a new input_nodes variable\n",
    "    if input_nodes_idx is None:\n",
    "        input_nodes_idx = base_.input_nodes_idx\n",
    "    else:\n",
    "        new_idx = input_nodes_idx.idx\n",
    "        new_idx += (base_.input_nodes_idx.idx[0] + network_size,)\n",
    "        \n",
    "        new_kind = input_nodes_idx.kind\n",
    "        new_kind += base_.input_nodes_idx.kind\n",
    "        input_nodes_idx = InputIndexes(new_idx, new_kind)\n",
    "\n",
    "    # add a value coupling between the Dirichlet node and the branch input(s)\n",
    "    attributes, edges = add_coupling(\n",
    "        attributes=attributes, \n",
    "        edges=edges,\n",
    "        kind=\"value\",\n",
    "        parent_idxs=cluster_input_idxs,\n",
    "        children_idxs=dirichlet_node_idx\n",
    "        )\n",
    "\n",
    "    return attributes, edges, input_nodes_idx, dirichlet_node"
   ]
  },
  {
   "cell_type": "markdown",
   "id": "77b107e2-3a44-415c-a768-81538ad245c7",
   "metadata": {},
   "source": [
    "#### The Dirichlet process node\n",
    "Finally, we define the main network with a Dirichlet process as the input node. This input takes the base branch as a template to duplicate later."
   ]
  },
  {
   "cell_type": "code",
   "execution_count": 34,
   "id": "3c732429-4883-4ed4-8f2d-8a1cec7c01a8",
   "metadata": {},
   "outputs": [
    {
     "name": "stdout",
     "output_type": "stream",
     "text": [
      "Initializing a network with custom node structure.\n"
     ]
    }
   ],
   "source": [
    "# create the Dirichlet node structure\n",
    "dirichlet_hgf = (\n",
    "    HGF(model_type=None)\n",
    "    .add_nodes(\n",
    "        kind=\"dirichlet-input\", \n",
    "        node_parameters={\n",
    "            \"alpha\": 0.5,\n",
    "            \"base_network\": base_network,\n",
    "            \"create_cluster_fn\": create_cluster_fn,\n",
    "            \"log_likelihood_fn\": log_likelihood_fn,\n",
    "            \"parametrize_cluster_fn\": parametrize_cluster_fn,\n",
    "        }\n",
    "    )\n",
    ")"
   ]
  },
  {
   "cell_type": "code",
   "execution_count": 35,
   "id": "ac367a0e-bcda-4c58-8bd7-2fd3050baf29",
   "metadata": {},
   "outputs": [
    {
     "data": {
      "image/svg+xml": [
       "<?xml version=\"1.0\" encoding=\"UTF-8\" standalone=\"no\"?>\n",
       "<!DOCTYPE svg PUBLIC \"-//W3C//DTD SVG 1.1//EN\"\n",
       " \"http://www.w3.org/Graphics/SVG/1.1/DTD/svg11.dtd\">\n",
       "<!-- Generated by graphviz version 8.0.5 (20230506.1012)\n",
       " -->\n",
       "<!-- Title: hgf&#45;nodes Pages: 1 -->\n",
       "<svg width=\"90pt\" height=\"302pt\"\n",
       " viewBox=\"0.00 0.00 90.00 301.80\" xmlns=\"http://www.w3.org/2000/svg\" xmlns:xlink=\"http://www.w3.org/1999/xlink\">\n",
       "<g id=\"graph0\" class=\"graph\" transform=\"scale(1 1) rotate(0) translate(4 297.8)\">\n",
       "<title>hgf&#45;nodes</title>\n",
       "<polygon fill=\"white\" stroke=\"none\" points=\"-4,4 -4,-297.8 86,-297.8 86,4 -4,4\"/>\n",
       "<!-- x_0 -->\n",
       "<g id=\"node1\" class=\"node\">\n",
       "<title>x_0</title>\n",
       "<ellipse fill=\"lightgrey\" stroke=\"black\" cx=\"41\" cy=\"-38.9\" rx=\"34.9\" ry=\"34.9\"/>\n",
       "<ellipse fill=\"none\" stroke=\"black\" cx=\"41\" cy=\"-38.9\" rx=\"38.9\" ry=\"38.9\"/>\n",
       "<text text-anchor=\"middle\" x=\"41\" y=\"-34.22\" font-family=\"Times,serif\" font-size=\"14.00\">DP&#45;0</text>\n",
       "</g>\n",
       "<!-- x_1 -->\n",
       "<g id=\"node2\" class=\"node\">\n",
       "<title>x_1</title>\n",
       "<ellipse fill=\"lightgrey\" stroke=\"black\" cx=\"41\" cy=\"-131.8\" rx=\"33.85\" ry=\"18\"/>\n",
       "<text text-anchor=\"middle\" x=\"41\" y=\"-127.12\" font-family=\"Times,serif\" font-size=\"14.00\">Co&#45;1</text>\n",
       "</g>\n",
       "<!-- x_1&#45;&gt;x_0 -->\n",
       "<g id=\"edge1\" class=\"edge\">\n",
       "<title>x_1&#45;&gt;x_0</title>\n",
       "<path fill=\"none\" stroke=\"black\" d=\"M41,-113.7C41,-106.53 41,-97.8 41,-88.89\"/>\n",
       "<polygon fill=\"black\" stroke=\"black\" points=\"44.5,-89.02 41,-79.02 37.5,-89.02 44.5,-89.02\"/>\n",
       "</g>\n",
       "<!-- x_2 -->\n",
       "<g id=\"node3\" class=\"node\">\n",
       "<title>x_2</title>\n",
       "<ellipse fill=\"none\" stroke=\"black\" cx=\"18\" cy=\"-203.8\" rx=\"18\" ry=\"18\"/>\n",
       "<text text-anchor=\"middle\" x=\"18\" y=\"-199.12\" font-family=\"Times,serif\" font-size=\"14.00\">2</text>\n",
       "</g>\n",
       "<!-- x_2&#45;&gt;x_1 -->\n",
       "<g id=\"edge2\" class=\"edge\">\n",
       "<title>x_2&#45;&gt;x_1</title>\n",
       "<path fill=\"none\" stroke=\"black\" d=\"M23.45,-186.21C26.02,-178.39 29.15,-168.86 32.05,-160.02\"/>\n",
       "<polygon fill=\"black\" stroke=\"black\" points=\"35.63,-161.35 35.43,-150.75 28.98,-159.16 35.63,-161.35\"/>\n",
       "</g>\n",
       "<!-- x_3 -->\n",
       "<g id=\"node4\" class=\"node\">\n",
       "<title>x_3</title>\n",
       "<ellipse fill=\"none\" stroke=\"black\" cx=\"64\" cy=\"-275.8\" rx=\"18\" ry=\"18\"/>\n",
       "<text text-anchor=\"middle\" x=\"64\" y=\"-271.12\" font-family=\"Times,serif\" font-size=\"14.00\">3</text>\n",
       "</g>\n",
       "<!-- x_3&#45;&gt;x_1 -->\n",
       "<g id=\"edge3\" class=\"edge\">\n",
       "<title>x_3&#45;&gt;x_1</title>\n",
       "<path fill=\"none\" stroke=\"gray\" stroke-dasharray=\"5,2\" d=\"M61.23,-257.67C57.24,-233.04 49.85,-187.43 45.19,-158.68\"/>\n",
       "<ellipse fill=\"gray\" stroke=\"gray\" cx=\"44.5\" cy=\"-154.43\" rx=\"4\" ry=\"4\"/>\n",
       "</g>\n",
       "</g>\n",
       "</svg>\n"
      ],
      "text/plain": [
       "<graphviz.sources.Source at 0x7f1e6ca2d640>"
      ]
     },
     "execution_count": 35,
     "metadata": {},
     "output_type": "execute_result"
    }
   ],
   "source": [
    "dirichlet_hgf.plot_network()"
   ]
  },
  {
   "cell_type": "code",
   "execution_count": 36,
   "id": "21f19974-9921-4c1f-a43d-3465666b93ac",
   "metadata": {},
   "outputs": [],
   "source": [
    "dirichlet_hgf.set_update_sequence();"
   ]
  },
  {
   "cell_type": "markdown",
   "id": "13714325-c11d-4636-bea5-b826252b529e",
   "metadata": {},
   "source": [
    "### Add observations to the network"
   ]
  },
  {
   "cell_type": "code",
   "execution_count": 37,
   "id": "76fe7ecf-838a-4a5c-b8d0-ca2ae6187edd",
   "metadata": {},
   "outputs": [
    {
     "name": "stdout",
     "output_type": "stream",
     "text": [
      "pi_new: 1.0\n",
      "pi_cluster: [1.0]\n",
      "clusters_log_likelihood: [Array(-6.443879, dtype=float32)]\n",
      "1.0\n",
      "pi_new: 0.3333333333333333\n",
      "pi_cluster: [0.6666666666666666, 0.3333333333333333]\n",
      "clusters_log_likelihood: [Array(-6.4550724, dtype=float32), Array(-6.4439416, dtype=float32)]\n",
      "0.6010015\n",
      "pi_new: 0.2\n",
      "pi_cluster: [0.8, 0.2]\n",
      "clusters_log_likelihood: [Array(-6.784855, dtype=float32), Array(-6.4437027, dtype=float32)]\n",
      "0.6913653\n",
      "pi_new: 0.14285714285714285\n",
      "pi_cluster: [0.8571428571428571, 0.14285714285714285]\n",
      "clusters_log_likelihood: [Array(-6.630475, dtype=float32), Array(-6.6983395, dtype=float32)]\n",
      "0.7277377\n",
      "pi_new: 0.1111111111111111\n",
      "pi_cluster: [0.8888888888888888, 0.1111111111111111]\n",
      "clusters_log_likelihood: [Array(-7.468632, dtype=float32), Array(-6.626089, dtype=float32)]\n",
      "0.7930606\n",
      "pi_new: 0.09090909090909091\n",
      "pi_cluster: [0.9090909090909091, 0.09090909090909091]\n",
      "clusters_log_likelihood: [Array(-6.9481, dtype=float32), Array(-6.5769854, dtype=float32)]\n",
      "0.5885725\n",
      "pi_new: 0.07692307692307693\n",
      "pi_cluster: [0.9230769230769231, 0.07692307692307693]\n",
      "clusters_log_likelihood: [Array(-6.796822, dtype=float32), Array(-6.535025, dtype=float32)]\n",
      "0.587614\n",
      "pi_new: 0.06666666666666667\n",
      "pi_cluster: [0.9333333333333333, 0.06666666666666667]\n",
      "clusters_log_likelihood: [Array(-7.6282187, dtype=float32), Array(-6.4969, dtype=float32)]\n",
      "0.61306036\n",
      "pi_new: 0.058823529411764705\n",
      "pi_cluster: [0.9411764705882353, 0.058823529411764705]\n",
      "clusters_log_likelihood: [Array(-8.891053, dtype=float32), Array(-6.4626107, dtype=float32)]\n",
      "0.50623035\n",
      "pi_new: 0.05263157894736842\n",
      "pi_cluster: [0.9473684210526315, 0.05263157894736842]\n",
      "clusters_log_likelihood: [Array(-8.281203, dtype=float32), Array(-6.432042, dtype=float32)]\n",
      "0.3626892\n"
     ]
    }
   ],
   "source": [
    "for value in input_data[:10]:\n",
    "    \n",
    "    for node_idx, update_fn in dirichlet_hgf.update_sequence:\n",
    "\n",
    "        if \"dirichlet\" in update_fn.__name__:\n",
    "\n",
    "            attributes = dirichlet_hgf.attributes\n",
    "            edges = dirichlet_hgf.edges\n",
    "            dirichlet_node = dirichlet_hgf.dirichlet_node\n",
    "            input_nodes_idx = dirichlet_hgf.input_nodes_idx\n",
    "\n",
    "            attributes, edges, input_nodes_idx, dirichlet_node = update_fn(\n",
    "                edges=edges,\n",
    "                attributes=attributes,\n",
    "                value=value,\n",
    "                time_step=1.0,\n",
    "                node_idx=node_idx,\n",
    "                dirichlet_node=dirichlet_node,\n",
    "                input_nodes_idx=input_nodes_idx\n",
    "            )\n",
    "\n",
    "            dirichlet_hgf.attributes = attributes\n",
    "            dirichlet_hgf.edges = edges\n",
    "            dirichlet_hgf.input_nodes_idx = input_nodes_idx\n",
    "            dirichlet_hgf.dirichlet_node = dirichlet_node\n",
    "\n",
    "            dirichlet_hgf.set_update_sequence()\n",
    "\n",
    "        else:\n",
    "            attributes = dirichlet_hgf.attributes\n",
    "            edges = dirichlet_hgf.edges\n",
    "\n",
    "            attributes = update_fn(\n",
    "                attributes=attributes,\n",
    "                time_step=1.0,\n",
    "                node_idx=node_idx,\n",
    "                edges=edges,\n",
    "                value=value,\n",
    "                observed=1.0,\n",
    "            )\n",
    "\n",
    "            dirichlet_hgf.attributes = attributes\n",
    "\n",
    "    print(attributes[1][\"expected_precision\"])"
   ]
  },
  {
   "cell_type": "markdown",
   "id": "3ac83c10-37c3-4d35-8f06-3a68c31f6d24",
   "metadata": {},
   "source": [
    "## Plotting results"
   ]
  },
  {
   "cell_type": "code",
   "execution_count": 38,
   "id": "99e04f75-c662-465c-a6a5-4b7f95193788",
   "metadata": {},
   "outputs": [
    {
     "data": {
      "image/png": "[encoded data removed]",
      "text/plain": [
       "<Figure size 800x500 with 1 Axes>"
      ]
     },
     "metadata": {},
     "output_type": "display_data"
    }
   ],
   "source": [
    "fig, ax = plt.subplots(figsize=(8, 5))\n",
    "for input_idx in dirichlet_hgf.dirichlet_node.cluster_input_idxs:\n",
    "    \n",
    "    value_parent_idx = dirichlet_hgf.edges[input_idx].value_parents[0]\n",
    "    volatility_parent_idx = dirichlet_hgf.edges[input_idx].volatility_parents[0]\n",
    "\n",
    "    mean = dirichlet_hgf.attributes[value_parent_idx]['expected_mean']\n",
    "    \n",
    "    # the precision of the Gaussian is given by:\n",
    "    precision = attributes[input_idx][\"expected_precision\"]\n",
    "\n",
    "    ax.plot(\n",
    "        np.arange(-10, 10, .01), \n",
    "        norm(loc=mean, scale=np.sqrt(1/precision)).pdf(np.arange(-10, 10, .01)),\n",
    "        label=f\"cluster - {input_idx}\"\n",
    "    )\n",
    "    sns.histplot(x=input_data, alpha=.2, ax=ax, stat=\"probability\");\n",
    "plt.legend()\n",
    "plt.show()"
   ]
  },
  {
   "cell_type": "code",
   "execution_count": 33,
   "id": "b270f022-9b9a-4961-b1b8-0688572e2a84",
   "metadata": {},
   "outputs": [
    {
     "data": {
      "image/svg+xml": [
       "<?xml version=\"1.0\" encoding=\"UTF-8\" standalone=\"no\"?>\n",
       "<!DOCTYPE svg PUBLIC \"-//W3C//DTD SVG 1.1//EN\"\n",
       " \"http://www.w3.org/Graphics/SVG/1.1/DTD/svg11.dtd\">\n",
       "<!-- Generated by graphviz version 8.0.5 (20230506.1012)\n",
       " -->\n",
       "<!-- Title: hgf&#45;nodes Pages: 1 -->\n",
       "<svg width=\"202pt\" height=\"302pt\"\n",
       " viewBox=\"0.00 0.00 202.00 301.80\" xmlns=\"http://www.w3.org/2000/svg\" xmlns:xlink=\"http://www.w3.org/1999/xlink\">\n",
       "<g id=\"graph0\" class=\"graph\" transform=\"scale(1 1) rotate(0) translate(4 297.8)\">\n",
       "<title>hgf&#45;nodes</title>\n",
       "<polygon fill=\"white\" stroke=\"none\" points=\"-4,4 -4,-297.8 198,-297.8 198,4 -4,4\"/>\n",
       "<!-- x_0 -->\n",
       "<g id=\"node1\" class=\"node\">\n",
       "<title>x_0</title>\n",
       "<ellipse fill=\"lightgrey\" stroke=\"black\" cx=\"97\" cy=\"-38.9\" rx=\"34.9\" ry=\"34.9\"/>\n",
       "<ellipse fill=\"none\" stroke=\"black\" cx=\"97\" cy=\"-38.9\" rx=\"38.9\" ry=\"38.9\"/>\n",
       "<text text-anchor=\"middle\" x=\"97\" y=\"-34.22\" font-family=\"Times,serif\" font-size=\"14.00\">DP&#45;0</text>\n",
       "</g>\n",
       "<!-- x_1 -->\n",
       "<g id=\"node2\" class=\"node\">\n",
       "<title>x_1</title>\n",
       "<ellipse fill=\"lightgrey\" stroke=\"black\" cx=\"54\" cy=\"-131.8\" rx=\"33.85\" ry=\"18\"/>\n",
       "<text text-anchor=\"middle\" x=\"54\" y=\"-127.12\" font-family=\"Times,serif\" font-size=\"14.00\">Co&#45;1</text>\n",
       "</g>\n",
       "<!-- x_1&#45;&gt;x_0 -->\n",
       "<g id=\"edge1\" class=\"edge\">\n",
       "<title>x_1&#45;&gt;x_0</title>\n",
       "<path fill=\"none\" stroke=\"black\" d=\"M61.89,-114.13C65.9,-105.65 70.98,-94.9 76.02,-84.24\"/>\n",
       "<polygon fill=\"black\" stroke=\"black\" points=\"79.5,-86.08 80.61,-75.54 73.17,-83.08 79.5,-86.08\"/>\n",
       "</g>\n",
       "<!-- x_4 -->\n",
       "<g id=\"node3\" class=\"node\">\n",
       "<title>x_4</title>\n",
       "<ellipse fill=\"lightgrey\" stroke=\"black\" cx=\"140\" cy=\"-131.8\" rx=\"33.85\" ry=\"18\"/>\n",
       "<text text-anchor=\"middle\" x=\"140\" y=\"-127.12\" font-family=\"Times,serif\" font-size=\"14.00\">Co&#45;4</text>\n",
       "</g>\n",
       "<!-- x_4&#45;&gt;x_0 -->\n",
       "<g id=\"edge2\" class=\"edge\">\n",
       "<title>x_4&#45;&gt;x_0</title>\n",
       "<path fill=\"none\" stroke=\"black\" d=\"M132.11,-114.13C128.1,-105.65 123.02,-94.9 117.98,-84.24\"/>\n",
       "<polygon fill=\"black\" stroke=\"black\" points=\"120.83,-83.08 113.39,-75.54 114.5,-86.08 120.83,-83.08\"/>\n",
       "</g>\n",
       "<!-- x_2 -->\n",
       "<g id=\"node4\" class=\"node\">\n",
       "<title>x_2</title>\n",
       "<ellipse fill=\"none\" stroke=\"black\" cx=\"18\" cy=\"-203.8\" rx=\"18\" ry=\"18\"/>\n",
       "<text text-anchor=\"middle\" x=\"18\" y=\"-199.12\" font-family=\"Times,serif\" font-size=\"14.00\">2</text>\n",
       "</g>\n",
       "<!-- x_2&#45;&gt;x_1 -->\n",
       "<g id=\"edge3\" class=\"edge\">\n",
       "<title>x_2&#45;&gt;x_1</title>\n",
       "<path fill=\"none\" stroke=\"black\" d=\"M25.99,-187.26C30.29,-178.89 35.72,-168.34 40.65,-158.76\"/>\n",
       "<polygon fill=\"black\" stroke=\"black\" points=\"44.07,-160.76 45.53,-150.26 37.85,-157.56 44.07,-160.76\"/>\n",
       "</g>\n",
       "<!-- x_3 -->\n",
       "<g id=\"node5\" class=\"node\">\n",
       "<title>x_3</title>\n",
       "<ellipse fill=\"none\" stroke=\"black\" cx=\"64\" cy=\"-275.8\" rx=\"18\" ry=\"18\"/>\n",
       "<text text-anchor=\"middle\" x=\"64\" y=\"-271.12\" font-family=\"Times,serif\" font-size=\"14.00\">3</text>\n",
       "</g>\n",
       "<!-- x_3&#45;&gt;x_1 -->\n",
       "<g id=\"edge4\" class=\"edge\">\n",
       "<title>x_3&#45;&gt;x_1</title>\n",
       "<path fill=\"none\" stroke=\"gray\" stroke-dasharray=\"5,2\" d=\"M62.77,-257.39C61.03,-232.66 57.83,-187.2 55.81,-158.57\"/>\n",
       "<ellipse fill=\"gray\" stroke=\"gray\" cx=\"55.52\" cy=\"-154.4\" rx=\"4\" ry=\"4\"/>\n",
       "</g>\n",
       "<!-- x_5 -->\n",
       "<g id=\"node6\" class=\"node\">\n",
       "<title>x_5</title>\n",
       "<ellipse fill=\"none\" stroke=\"black\" cx=\"130\" cy=\"-203.8\" rx=\"18\" ry=\"18\"/>\n",
       "<text text-anchor=\"middle\" x=\"130\" y=\"-199.12\" font-family=\"Times,serif\" font-size=\"14.00\">5</text>\n",
       "</g>\n",
       "<!-- x_5&#45;&gt;x_4 -->\n",
       "<g id=\"edge5\" class=\"edge\">\n",
       "<title>x_5&#45;&gt;x_4</title>\n",
       "<path fill=\"none\" stroke=\"black\" d=\"M132.47,-185.49C133.54,-178.03 134.81,-169.12 136,-160.76\"/>\n",
       "<polygon fill=\"black\" stroke=\"black\" points=\"139.61,-161.3 137.56,-150.9 132.68,-160.31 139.61,-161.3\"/>\n",
       "</g>\n",
       "<!-- x_6 -->\n",
       "<g id=\"node7\" class=\"node\">\n",
       "<title>x_6</title>\n",
       "<ellipse fill=\"none\" stroke=\"black\" cx=\"176\" cy=\"-275.8\" rx=\"18\" ry=\"18\"/>\n",
       "<text text-anchor=\"middle\" x=\"176\" y=\"-271.12\" font-family=\"Times,serif\" font-size=\"14.00\">6</text>\n",
       "</g>\n",
       "<!-- x_6&#45;&gt;x_4 -->\n",
       "<g id=\"edge6\" class=\"edge\">\n",
       "<title>x_6&#45;&gt;x_4</title>\n",
       "<path fill=\"none\" stroke=\"gray\" stroke-dasharray=\"5,2\" d=\"M172.86,-257.61C169.45,-239.6 163.59,-210.53 157,-185.8 154.6,-176.79 151.59,-167.04 148.78,-158.39\"/>\n",
       "<ellipse fill=\"gray\" stroke=\"gray\" cx=\"147.37\" cy=\"-154.13\" rx=\"4\" ry=\"4\"/>\n",
       "</g>\n",
       "</g>\n",
       "</svg>\n"
      ],
      "text/plain": [
       "<graphviz.sources.Source at 0x7f1e6cb2f040>"
      ]
     },
     "execution_count": 33,
     "metadata": {},
     "output_type": "execute_result"
    }
   ],
   "source": [
    "dirichlet_hgf.plot_network()"
   ]
  },
  {
   "cell_type": "code",
   "execution_count": 15,
   "id": "fcc921d6-823d-4cb9-9699-158210034b12",
   "metadata": {},
   "outputs": [
    {
     "data": {
      "text/plain": [
       "DirichletNode(base_network=<pyhgf.model.HGF object at 0x7f1dee129a30>, create_cluster_fn=<function create_cluster_fn at 0x7f1e6cd89ca0>, likelihood_fn=<function log_likelihood_fn at 0x7f1dee0910d0>, parametrize_cluster_fn=<function parametrize_cluster_fn at 0x7f1e6cd899d0>, cluster_input_idxs=(1, 4, 7, 10))"
      ]
     },
     "execution_count": 15,
     "metadata": {},
     "output_type": "execute_result"
    }
   ],
   "source": [
    "dirichlet_hgf.dirichlet_node"
   ]
  },
  {
   "cell_type": "code",
   "execution_count": 16,
   "id": "033cc416-78a9-4c18-90d4-3bbd6623f754",
   "metadata": {},
   "outputs": [],
   "source": [
    "dirichlet_hgf.attributes[5][\"mean\"] = 1.0 "
   ]
  },
  {
   "cell_type": "code",
   "execution_count": 23,
   "id": "177619ea-2d10-4fdb-bba1-c174fb715a52",
   "metadata": {},
   "outputs": [
    {
     "data": {
      "text/plain": [
       "{'mean': Array(3.8543472, dtype=float32),\n",
       " 'expected_mean': Array(4.1554236, dtype=float32),\n",
       " 'precision': Array(1.2310512, dtype=float32),\n",
       " 'expected_precision': Array(0.53968596, dtype=float32),\n",
       " 'volatility_coupling_children': None,\n",
       " 'volatility_coupling_parents': None,\n",
       " 'value_coupling_children': (1.0,),\n",
       " 'value_coupling_parents': None,\n",
       " 'tonic_volatility': 0.0,\n",
       " 'tonic_drift': 0.0,\n",
       " 'autoregressive_coefficient': 0.0,\n",
       " 'autoregressive_intercept': 0.0,\n",
       " 'observed': 1,\n",
       " 'temp': {'effective_precision': Array(0.53968596, dtype=float32),\n",
       "  'value_prediction_error': 0.0,\n",
       "  'volatility_prediction_error': 0.0,\n",
       "  'expected_precision_children': 0.0}}"
      ]
     },
     "execution_count": 23,
     "metadata": {},
     "output_type": "execute_result"
    }
   ],
   "source": [
    "dirichlet_hgf.attributes[2]"
   ]
  },
  {
   "cell_type": "code",
   "execution_count": null,
   "id": "ad5d93b7-63a0-4fee-8b94-f6d2a67f4d87",
   "metadata": {},
   "outputs": [],
   "source": []
  },
  {
   "cell_type": "code",
   "execution_count": null,
   "id": "70bffccb-944f-4af3-8241-38a53ed837e2",
   "metadata": {},
   "outputs": [],
   "source": []
  },
  {
   "cell_type": "code",
   "execution_count": null,
   "id": "3e47b057-8aca-498d-ba07-18447084db1f",
   "metadata": {},
   "outputs": [],
   "source": []
  },
  {
   "cell_type": "code",
   "execution_count": null,
   "id": "3d317a2c-004a-4a9d-ad31-b21dc9fc1130",
   "metadata": {},
   "outputs": [],
   "source": []
  },
  {
   "cell_type": "code",
   "execution_count": null,
   "id": "e8435949-d503-4f11-bdc0-60f2b4d17089",
   "metadata": {},
   "outputs": [],
   "source": []
  },
  {
   "cell_type": "code",
   "execution_count": null,
   "id": "0b416baa-2657-4acd-85d1-86f8466102d0",
   "metadata": {},
   "outputs": [],
   "source": []
  },
  {
   "cell_type": "code",
   "execution_count": null,
   "id": "3aa3d4c1-9efd-4ade-bf10-934bff70d0dd",
   "metadata": {},
   "outputs": [],
   "source": []
  },
  {
   "cell_type": "code",
   "execution_count": null,
   "id": "2e1aa0ab-947b-46f5-8d62-5744c9ea1326",
   "metadata": {},
   "outputs": [],
   "source": []
  },
  {
   "cell_type": "code",
   "execution_count": null,
   "id": "7c7bce17-9ec9-4b4b-b9da-4a8e9a483cb1",
   "metadata": {},
   "outputs": [],
   "source": []
  },
  {
   "cell_type": "code",
   "execution_count": null,
   "id": "363c8cd8-19d3-44f5-8db3-61434b0d4a77",
   "metadata": {},
   "outputs": [],
   "source": []
  },
  {
   "cell_type": "code",
   "execution_count": 18,
   "id": "0a1adbee-92da-401b-9bc0-673d4234f3dd",
   "metadata": {},
   "outputs": [
    {
     "data": {
      "image/png": "[encoded data removed]",
      "text/plain": [
       "<Figure size 800x500 with 1 Axes>"
      ]
     },
     "metadata": {},
     "output_type": "display_data"
    }
   ],
   "source": [
    "fig, ax = plt.subplots(figsize=(8, 5))\n",
    "for input_idx in dirichlet_hgf.dirichlet_node.cluster_input_idxs:\n",
    "    \n",
    "    value_parent_idx = dirichlet_hgf.edges[input_idx].value_parents[0]\n",
    "    volatility_parent_idx = dirichlet_hgf.edges[input_idx].volatility_parents[0]\n",
    "\n",
    "    mean = dirichlet_hgf.attributes[value_parent_idx]['expected_mean']\n",
    "    # the precision of the Gaussian is given by:\n",
    "    mean_volatility = attributes[volatility_parent_idx][\"expected_mean\"]\n",
    "    input_noise = jnp.log(1/attributes[input_idx][\"expected_precision\"])\n",
    "    precision = 1 / jnp.exp(input_noise + mean_volatility)\n",
    "\n",
    "    ax.plot(\n",
    "        np.arange(-10, 10, .01), \n",
    "        norm(loc=mean, scale=np.sqrt(1/precision)).pdf(np.arange(-10, 10, .01)),\n",
    "        label=f\"cluster - {input_idx}\"\n",
    "    )\n",
    "    sns.histplot(x=input_data, alpha=.2, ax=ax, stat=\"probability\");\n",
    "plt.legend()\n",
    "plt.show()"
   ]
  },
  {
   "cell_type": "code",
   "execution_count": 19,
   "id": "5853e3b2-afa7-44a3-9ea5-cf6391ead6f2",
   "metadata": {},
   "outputs": [
    {
     "data": {
      "text/plain": [
       "(1, 4, 7, 10)"
      ]
     },
     "execution_count": 19,
     "metadata": {},
     "output_type": "execute_result"
    }
   ],
   "source": [
    "dirichlet_hgf.dirichlet_node.cluster_input_idxs"
   ]
  },
  {
   "cell_type": "markdown",
   "id": "d0cde87e-d2ec-43ad-bd32-df0893fe334b",
   "metadata": {},
   "source": [
    "## Using a Dirichlet process node\n",
    "\n",
    "A Dirichlet node has the following parameters:\n",
    "- $\\sigma_\\xi$, the default cluster precision.\n",
    "- $\\alpha$, the concentration parameter.\n",
    "- $\\pi_i = \\frac{n_i}{\\alpha + k - 1}$\n",
    "- $k$ the current number of clusters\n",
    "- $n_i$ the number of observations in cluster $C_i$"
   ]
  },
  {
   "cell_type": "markdown",
   "id": "02715b26-184a-497c-a7a5-d2705022bd95",
   "metadata": {},
   "source": [
    "A Dirichlet process over a measurable set $S$ is specifided by a base distribution $H$ and a concentration parameter $\\alpha$. In pyhgf, the base distribution is a tree probabilistic neural network that can operate over $S$. When a new set is observed, the Dirichlet node will chose between the following alternatives:\n",
    "\n",
    "1. Create a new cluster $C_n$ with probability:\n",
    "    - $\\frac{\\alpha}{\\alpha + n - 1}p(x|\\mu_n, \\sigma_n)$\n",
    "    - with $\\mu_n = x$ and $\\sigma_n = \\sigma_\\xi$\n",
    "2. Merge two cluster $j$ and $k$ into a new cluster $l$ if:\n",
    "    - $p(x|\\mu_l, \\sigma_l)\\pi_l < p(x|\\mu_k, \\sigma_k)\\pi_k + p(x|\\mu_j, \\sigma_j)\\pi_j$\n",
    "    - $\\mu_l = \\frac{\\mu_j + \\mu_k}{2}$\n",
    "    - $\\sigma_l = \\frac{\\sigma_j + \\sigma_k}{2}$\n",
    "    - $\\pi_l = \\frac{n_j + n_k}{\\alpha + k - 1}$\n",
    "3. Otherwise, sample from cluster $C_i$ where:\n",
    "    - $p(x|\\mu_i, \\sigma_i)\\pi_i \\le p(x|\\mu_j, \\sigma_j)\\pi_j \\forall j \\in C $."
   ]
  },
  {
   "cell_type": "markdown",
   "id": "6fbfdc69-46e2-4efd-af21-0770edb42007",
   "metadata": {},
   "source": [
    "First we start by defining the base distribution $H$. This requires use to detail how the node can create a new distribution, and how to update this distribution. Those steps are declared in the function `base_distribution` and the variable `cluster_updates` (respectively)."
   ]
  },
  {
   "cell_type": "markdown",
   "id": "4b8a79c6-cb23-4e50-b6dc-cfce3084eaa3",
   "metadata": {},
   "source": [
    "fig, ax = plt.subplots();\n",
    "def update(frame):\n",
    "    ax.cla()\n",
    "    sns.histplot(x=input_data[:frame], alpha=.2, bins=40, ax=ax);\n",
    "    ax.scatter(input_data[frame], -.5, alpha=.5)\n",
    "\n",
    "animation = FuncAnimation(fig, update, frames=range(len(input_data)), interval=100)\n",
    "display(HTML(animation.to_jshtml()))"
   ]
  },
  {
   "cell_type": "code",
   "execution_count": 120,
   "id": "da4c55d9-c9e7-4fd5-8ec9-f8bfd0cd42fb",
   "metadata": {},
   "outputs": [],
   "source": [
    "alpha = 1.0\n",
    "N = np.array([5, 3])\n",
    "x= np.arange(-10, 10, .01)\n",
    "\n",
    "y = -3.0\n",
    "sigma = 1.0\n",
    "\n",
    "mu_0, sigma_0 = 0, 10\n",
    "\n",
    "mu_k, sigma_k = np.array([1.0, 3.0]), np.array([1.5, 3.5])\n",
    "\n",
    "p_mu = []\n",
    "for mu in x:\n",
    "    new_evidence = (alpha / (np.sum(N) + alpha)) * norm(loc=mu, scale=sigma).pdf(y) * norm(loc=mu_0, scale=sigma_0).pdf(mu)\n",
    "    cluster_evidence = np.sum(norm(loc=mu_k, scale=sigma_k).pdf([mu, mu]) * (N / (alpha + N.sum())))\n",
    "    p_mu.append(new_evidence / cluster_evidence)\n",
    "p_mu = np.array(p_mu)"
   ]
  },
  {
   "cell_type": "code",
   "execution_count": 121,
   "id": "fef7c20d-6149-4841-8916-9dad36199a34",
   "metadata": {},
   "outputs": [
    {
     "data": {
      "image/png": "[encoded data removed]",
      "text/plain": [
       "<Figure size 640x480 with 1 Axes>"
      ]
     },
     "metadata": {},
     "output_type": "display_data"
    }
   ],
   "source": [
    "plt.plot(x, norm(loc=mu_k[0], scale=sigma_k[0]).pdf(x))\n",
    "plt.plot(x, norm(loc=mu_k[1], scale=sigma_k[1]).pdf(x))\n",
    "\n",
    "plt.plot(x, p_mu)\n",
    "\n",
    "N = np.array([500, 300])\n",
    "\n",
    "p_mu = []\n",
    "for mu in x:\n",
    "    new_evidence = (alpha / (np.sum(N) + alpha)) * norm(loc=mu, scale=sigma).pdf(y) * norm(loc=mu_0, scale=sigma_0).pdf(mu)\n",
    "    cluster_evidence = np.sum(norm(loc=mu_k, scale=sigma_k).pdf([mu, mu]) * (N / (alpha + N.sum())))\n",
    "    p_mu.append(new_evidence / cluster_evidence)\n",
    "p_mu = np.array(p_mu)\n",
    "\n",
    "plt.plot(x, p_mu);"
   ]
  },
  {
   "cell_type": "code",
   "execution_count": 122,
   "id": "52d8bd13-cbd9-4282-8d4c-d3f61276e97e",
   "metadata": {},
   "outputs": [
    {
     "data": {
      "text/plain": [
       "[<matplotlib.lines.Line2D at 0x7f1de44c6820>]"
      ]
     },
     "execution_count": 122,
     "metadata": {},
     "output_type": "execute_result"
    },
    {
     "data": {
      "image/png": "[encoded data removed]",
      "text/plain": [
       "<Figure size 640x480 with 1 Axes>"
      ]
     },
     "metadata": {},
     "output_type": "display_data"
    }
   ],
   "source": [
    "plt.plot(x, p_mu)"
   ]
  },
  {
   "cell_type": "code",
   "execution_count": null,
   "id": "ff4f4513-8dff-455a-aff7-0dc1a27a3289",
   "metadata": {},
   "outputs": [],
   "source": []
  }
 ],
 "metadata": {
  "jupytext": {
   "formats": "ipynb,md:myst"
  },
  "kernelspec": {
   "display_name": "Python 3 (ipykernel)",
   "language": "python",
   "name": "python3"
  },
  "language_info": {
   "codemirror_mode": {
    "name": "ipython",
    "version": 3
   },
   "file_extension": ".py",
   "mimetype": "text/x-python",
   "name": "python",
   "nbconvert_exporter": "python",
   "pygments_lexer": "ipython3",
   "version": "3.9.16"
  }
 },
 "nbformat": 4,
 "nbformat_minor": 5
}
