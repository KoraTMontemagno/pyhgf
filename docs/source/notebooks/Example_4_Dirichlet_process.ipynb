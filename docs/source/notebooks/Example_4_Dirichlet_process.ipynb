{
 "cells": [
  {
   "cell_type": "markdown",
   "id": "593ec81d-d8ba-4bbe-b106-920c53505de1",
   "metadata": {},
   "source": [
    "(example_2)=\n",
    "# Non-parametric predictive coding using Dirichlet process nodes"
   ]
  },
  {
   "cell_type": "code",
   "execution_count": 2,
   "id": "cdb405dd-6279-4eae-826e-9863a09c32de",
   "metadata": {},
   "outputs": [],
   "source": [
    "from functools import partial\n",
    "from typing import Dict, Tuple\n",
    "\n",
    "import jax.numpy as jnp\n",
    "import matplotlib.pyplot as plt\n",
    "import numpy as np\n",
    "import seaborn as sns\n",
    "from IPython.display import HTML, display\n",
    "from jax import config, jit\n",
    "from jax.scipy.stats.norm import logpdf\n",
    "from matplotlib.animation import FuncAnimation\n",
    "from pyhgf.math import gaussian_surprise\n",
    "from pyhgf.model import HGF\n",
    "from pyhgf.networks import add_edges, concatenate_networks\n",
    "from pyhgf.typing import Edges, InputIndexes\n",
    "from scipy.optimize import minimize\n",
    "from scipy.stats import multinomial, norm\n",
    "\n",
    "config.update(\"jax_disable_jit\", True)"
   ]
  },
  {
   "cell_type": "markdown",
   "id": "8dfa98d4-a606-45cb-8522-ae383016bb37",
   "metadata": {},
   "source": [
    "PyHGF is built on a modular framework that allows working with programmatically pure functions, which means that the structure of the network, as well as the update steps connecting the nodes, are parameters of the belief propagation functions. Most applications of predictive coding neural networks are mostly concerned with the update of the attributes of the network during inference. However, one consequence of this parametrisation is that networks can change their structure during the belief propagation, for example as a function of the prediction errors elicited by the observation. This concept is often referred to as a self-organizing neural network (see for example {cite:p}`Najarro:2023`).\n",
    "\n",
    "Having a network that can change shape as a function of incoming observations can be a powerful tool if we do not want to parametrise too rigidly our model beforehand, but instead want to let its complexity grow infinitely as observations grow infinitely, a property that is central for nonparametric Bayesian modelling {cite:p}`Gershman2012`. In this notebook, we illustrate how this idea can be applied to create a network that can grow and remove branches and approximates the evolution of a [Dirichlet process](https://en.wikipedia.org/wiki/Dirichlet_process)."
   ]
  },
  {
   "cell_type": "markdown",
   "id": "ead17e7b-29a4-4bd4-a12e-c0f9f18a6dba",
   "metadata": {},
   "source": [
    "## Example 1: Clustering observations from a Gaussian mixture\n",
    "### Create the dataset"
   ]
  },
  {
   "cell_type": "code",
   "execution_count": 2,
   "id": "af8b5668-e86c-43d5-a419-e0b7e07bb616",
   "metadata": {},
   "outputs": [],
   "source": [
    "np.random.seed(123)\n",
    "\n",
    "# simulate a dataset\n",
    "n_trials = 100\n",
    "\n",
    "\n",
    "def get_value():\n",
    "    cat = multinomial(n=1, p=[0.2, 0.2, 0.6]).rvs()\n",
    "    vals = np.random.normal([0, 20, 40], 1)\n",
    "    return (cat * vals).sum()\n",
    "\n",
    "\n",
    "input_data = []\n",
    "for i in range(n_trials):\n",
    "    input_data.append(get_value())"
   ]
  },
  {
   "cell_type": "code",
   "execution_count": 3,
   "id": "009265a4-fa31-4c4d-bf68-22f0ba8b081c",
   "metadata": {},
   "outputs": [
    {
     "data": {
      "image/png": "[encoded data removed]",
      "text/plain": [
       "<Figure size 640x480 with 1 Axes>"
      ]
     },
     "metadata": {},
     "output_type": "display_data"
    }
   ],
   "source": [
    "sns.histplot(x=input_data, alpha=0.2, bins=40);"
   ]
  },
  {
   "cell_type": "markdown",
   "id": "1b98699b-95d7-4fba-a5ce-dffe9e619c56",
   "metadata": {},
   "source": [
    "### Create the Dirichlet process node\n",
    "#### The base branch"
   ]
  },
  {
   "cell_type": "markdown",
   "id": "ec41e456-1400-4aba-b5f5-a528f69355dd",
   "metadata": {},
   "source": [
    "The first component required by the Dirichlet process node is the base branch. This network has a role similar to the base distribution in the Dirichlet process and should encode the structure of the branch that is duplicated. Here, we start with a simple one-level continuous HGF with both a volatility and value parent. This network will try to learn the mean precision of a latent variable (see also {ref)`Example_2_Input_node_volatility_coupling`)."
   ]
  },
  {
   "cell_type": "code",
   "execution_count": 4,
   "id": "2ddafa82-de8f-4cf1-b302-8c881a9c7e07",
   "metadata": {},
   "outputs": [
    {
     "name": "stdout",
     "output_type": "stream",
     "text": [
      "Initializing a network with custom node structure.\n"
     ]
    }
   ],
   "source": [
    "# create the Dirichlet node structure\n",
    "base_network = (\n",
    "    HGF(model_type=None)\n",
    "    .add_nodes(\n",
    "        kind=\"continuous-input\",\n",
    "        node_parameters={\"input_noise\": 1.0, \"expected_precision\": 1.0},\n",
    "    )\n",
    "    .add_nodes(\n",
    "        value_children=0, node_parameters={\"tonic_volatility\": -2.0, \"precision\": 0.5}\n",
    "    )\n",
    "    .add_nodes(volatility_children=0)\n",
    ").set_update_sequence()"
   ]
  },
  {
   "cell_type": "code",
   "execution_count": 5,
   "id": "1efe95ba-aef8-4c65-8160-adc41d280b43",
   "metadata": {},
   "outputs": [
    {
     "data": {
      "image/svg+xml": [
       "<?xml version=\"1.0\" encoding=\"UTF-8\" standalone=\"no\"?>\n",
       "<!DOCTYPE svg PUBLIC \"-//W3C//DTD SVG 1.1//EN\"\n",
       " \"http://www.w3.org/Graphics/SVG/1.1/DTD/svg11.dtd\">\n",
       "<!-- Generated by graphviz version 8.0.5 (20230506.1012)\n",
       " -->\n",
       "<!-- Title: hgf&#45;nodes Pages: 1 -->\n",
       "<svg width=\"90pt\" height=\"188pt\"\n",
       " viewBox=\"0.00 0.00 90.00 188.00\" xmlns=\"http://www.w3.org/2000/svg\" xmlns:xlink=\"http://www.w3.org/1999/xlink\">\n",
       "<g id=\"graph0\" class=\"graph\" transform=\"scale(1 1) rotate(0) translate(4 184)\">\n",
       "<title>hgf&#45;nodes</title>\n",
       "<polygon fill=\"white\" stroke=\"none\" points=\"-4,4 -4,-184 86,-184 86,4 -4,4\"/>\n",
       "<!-- x_0 -->\n",
       "<g id=\"node1\" class=\"node\">\n",
       "<title>x_0</title>\n",
       "<ellipse fill=\"lightgrey\" stroke=\"black\" cx=\"41\" cy=\"-18\" rx=\"33.85\" ry=\"18\"/>\n",
       "<text text-anchor=\"middle\" x=\"41\" y=\"-13.32\" font-family=\"Times,serif\" font-size=\"14.00\">Co&#45;0</text>\n",
       "</g>\n",
       "<!-- x_1 -->\n",
       "<g id=\"node2\" class=\"node\">\n",
       "<title>x_1</title>\n",
       "<ellipse fill=\"none\" stroke=\"black\" cx=\"18\" cy=\"-90\" rx=\"18\" ry=\"18\"/>\n",
       "<text text-anchor=\"middle\" x=\"18\" y=\"-85.33\" font-family=\"Times,serif\" font-size=\"14.00\">1</text>\n",
       "</g>\n",
       "<!-- x_1&#45;&gt;x_0 -->\n",
       "<g id=\"edge1\" class=\"edge\">\n",
       "<title>x_1&#45;&gt;x_0</title>\n",
       "<path fill=\"none\" stroke=\"black\" d=\"M23.45,-72.41C26.02,-64.59 29.15,-55.06 32.05,-46.23\"/>\n",
       "<polygon fill=\"black\" stroke=\"black\" points=\"35.63,-47.55 35.43,-36.96 28.98,-45.36 35.63,-47.55\"/>\n",
       "</g>\n",
       "<!-- x_2 -->\n",
       "<g id=\"node3\" class=\"node\">\n",
       "<title>x_2</title>\n",
       "<ellipse fill=\"none\" stroke=\"black\" cx=\"64\" cy=\"-162\" rx=\"18\" ry=\"18\"/>\n",
       "<text text-anchor=\"middle\" x=\"64\" y=\"-157.32\" font-family=\"Times,serif\" font-size=\"14.00\">2</text>\n",
       "</g>\n",
       "<!-- x_2&#45;&gt;x_0 -->\n",
       "<g id=\"edge2\" class=\"edge\">\n",
       "<title>x_2&#45;&gt;x_0</title>\n",
       "<path fill=\"none\" stroke=\"gray\" stroke-dasharray=\"5,2\" d=\"M61.23,-143.87C57.24,-119.24 49.85,-73.64 45.19,-44.88\"/>\n",
       "<ellipse fill=\"gray\" stroke=\"gray\" cx=\"44.5\" cy=\"-40.63\" rx=\"4\" ry=\"4\"/>\n",
       "</g>\n",
       "</g>\n",
       "</svg>\n"
      ],
      "text/plain": [
       "<graphviz.sources.Source at 0x7fb6e859b820>"
      ]
     },
     "execution_count": 5,
     "metadata": {},
     "output_type": "execute_result"
    }
   ],
   "source": [
    "base_network.plot_network()"
   ]
  },
  {
   "cell_type": "markdown",
   "id": "a47d4f57-2802-4c82-8cdd-e42ff3b4c563",
   "metadata": {},
   "source": [
    "#### The likelihood function\n",
    "The second component is the likelihood function of the base network. This function will be used by every branch of the Dirichlet node to compare the likelihood of every new observation. This function should point to the input node(s) of the given branch. Here, the likelihood is simply the Gaussian likelihood given the mean and precision of the underlying distribution."
   ]
  },
  {
   "cell_type": "code",
   "execution_count": 6,
   "id": "81168af8-5cb1-412a-aa02-58c8a1b6d984",
   "metadata": {},
   "outputs": [],
   "source": [
    "def log_likelihood_fn(input_idx, value, attributes, edges):\n",
    "    value_parent_idx = edges[input_idx].value_parents[0]\n",
    "    logp = -gaussian_surprise(\n",
    "        x=value,\n",
    "        expected_mean=attributes[value_parent_idx][\"mean\"],\n",
    "        expected_precision=attributes[input_idx][\"expected_precision\"],\n",
    "    )\n",
    "\n",
    "    return logp"
   ]
  },
  {
   "cell_type": "markdown",
   "id": "9156875b-3ce7-4aef-b0f7-38f742d7b82c",
   "metadata": {},
   "source": [
    "#### The branching function\n",
    "Finally, the third component of the Dirichlet node is the branching function. This function generates a new branch if no other branch can better explain the new incoming observation. Creating a new branch is a two-step process:\n",
    "1. Creating the network structure.\n",
    "2. Parametrizing the attribute of the network.\n",
    "The first step is straightforward and mainly requires merging a new *base branch* in the network. The second step should decide which priors to use for the new branch, which involves non-trivial arbitrary decisions as - by definition - this new branch has only observed one data point so far."
   ]
  },
  {
   "cell_type": "markdown",
   "id": "77b107e2-3a44-415c-a768-81538ad245c7",
   "metadata": {},
   "source": [
    "#### The Dirichlet process node\n",
    "Finally, we define the main network with a Dirichlet process as the input node. This input takes the base branch as a template to duplicate later."
   ]
  },
  {
   "cell_type": "code",
   "execution_count": 7,
   "id": "3c732429-4883-4ed4-8f2d-8a1cec7c01a8",
   "metadata": {},
   "outputs": [
    {
     "name": "stdout",
     "output_type": "stream",
     "text": [
      "Initializing a network with custom node structure.\n"
     ]
    }
   ],
   "source": [
    "# create the Dirichlet node structure\n",
    "dirichlet_hgf = HGF(model_type=None).add_nodes(\n",
    "    kind=\"dirichlet-input\",\n",
    "    node_parameters={\n",
    "        \"alpha\": 0.5,\n",
    "        \"base_network\": base_network,\n",
    "        \"log_likelihood_fn\": log_likelihood_fn,\n",
    "    },\n",
    ")"
   ]
  },
  {
   "cell_type": "code",
   "execution_count": 8,
   "id": "ac367a0e-bcda-4c58-8bd7-2fd3050baf29",
   "metadata": {},
   "outputs": [
    {
     "data": {
      "image/svg+xml": [
       "<?xml version=\"1.0\" encoding=\"UTF-8\" standalone=\"no\"?>\n",
       "<!DOCTYPE svg PUBLIC \"-//W3C//DTD SVG 1.1//EN\"\n",
       " \"http://www.w3.org/Graphics/SVG/1.1/DTD/svg11.dtd\">\n",
       "<!-- Generated by graphviz version 8.0.5 (20230506.1012)\n",
       " -->\n",
       "<!-- Title: hgf&#45;nodes Pages: 1 -->\n",
       "<svg width=\"90pt\" height=\"302pt\"\n",
       " viewBox=\"0.00 0.00 90.00 301.80\" xmlns=\"http://www.w3.org/2000/svg\" xmlns:xlink=\"http://www.w3.org/1999/xlink\">\n",
       "<g id=\"graph0\" class=\"graph\" transform=\"scale(1 1) rotate(0) translate(4 297.8)\">\n",
       "<title>hgf&#45;nodes</title>\n",
       "<polygon fill=\"white\" stroke=\"none\" points=\"-4,4 -4,-297.8 86,-297.8 86,4 -4,4\"/>\n",
       "<!-- x_0 -->\n",
       "<g id=\"node1\" class=\"node\">\n",
       "<title>x_0</title>\n",
       "<ellipse fill=\"lightgrey\" stroke=\"black\" cx=\"41\" cy=\"-38.9\" rx=\"34.9\" ry=\"34.9\"/>\n",
       "<ellipse fill=\"none\" stroke=\"black\" cx=\"41\" cy=\"-38.9\" rx=\"38.9\" ry=\"38.9\"/>\n",
       "<text text-anchor=\"middle\" x=\"41\" y=\"-34.22\" font-family=\"Times,serif\" font-size=\"14.00\">DP&#45;0</text>\n",
       "</g>\n",
       "<!-- x_1 -->\n",
       "<g id=\"node2\" class=\"node\">\n",
       "<title>x_1</title>\n",
       "<ellipse fill=\"lightgrey\" stroke=\"black\" cx=\"41\" cy=\"-131.8\" rx=\"33.85\" ry=\"18\"/>\n",
       "<text text-anchor=\"middle\" x=\"41\" y=\"-127.12\" font-family=\"Times,serif\" font-size=\"14.00\">Co&#45;1</text>\n",
       "</g>\n",
       "<!-- x_1&#45;&gt;x_0 -->\n",
       "<g id=\"edge1\" class=\"edge\">\n",
       "<title>x_1&#45;&gt;x_0</title>\n",
       "<path fill=\"none\" stroke=\"black\" d=\"M41,-113.7C41,-106.53 41,-97.8 41,-88.89\"/>\n",
       "<polygon fill=\"black\" stroke=\"black\" points=\"44.5,-89.02 41,-79.02 37.5,-89.02 44.5,-89.02\"/>\n",
       "</g>\n",
       "<!-- x_2 -->\n",
       "<g id=\"node3\" class=\"node\">\n",
       "<title>x_2</title>\n",
       "<ellipse fill=\"none\" stroke=\"black\" cx=\"18\" cy=\"-203.8\" rx=\"18\" ry=\"18\"/>\n",
       "<text text-anchor=\"middle\" x=\"18\" y=\"-199.12\" font-family=\"Times,serif\" font-size=\"14.00\">2</text>\n",
       "</g>\n",
       "<!-- x_2&#45;&gt;x_1 -->\n",
       "<g id=\"edge2\" class=\"edge\">\n",
       "<title>x_2&#45;&gt;x_1</title>\n",
       "<path fill=\"none\" stroke=\"black\" d=\"M23.45,-186.21C26.02,-178.39 29.15,-168.86 32.05,-160.02\"/>\n",
       "<polygon fill=\"black\" stroke=\"black\" points=\"35.63,-161.35 35.43,-150.75 28.98,-159.16 35.63,-161.35\"/>\n",
       "</g>\n",
       "<!-- x_3 -->\n",
       "<g id=\"node4\" class=\"node\">\n",
       "<title>x_3</title>\n",
       "<ellipse fill=\"none\" stroke=\"black\" cx=\"64\" cy=\"-275.8\" rx=\"18\" ry=\"18\"/>\n",
       "<text text-anchor=\"middle\" x=\"64\" y=\"-271.12\" font-family=\"Times,serif\" font-size=\"14.00\">3</text>\n",
       "</g>\n",
       "<!-- x_3&#45;&gt;x_1 -->\n",
       "<g id=\"edge3\" class=\"edge\">\n",
       "<title>x_3&#45;&gt;x_1</title>\n",
       "<path fill=\"none\" stroke=\"gray\" stroke-dasharray=\"5,2\" d=\"M61.23,-257.67C57.24,-233.04 49.85,-187.43 45.19,-158.68\"/>\n",
       "<ellipse fill=\"gray\" stroke=\"gray\" cx=\"44.5\" cy=\"-154.43\" rx=\"4\" ry=\"4\"/>\n",
       "</g>\n",
       "</g>\n",
       "</svg>\n"
      ],
      "text/plain": [
       "<graphviz.sources.Source at 0x7fb6e859b550>"
      ]
     },
     "execution_count": 8,
     "metadata": {},
     "output_type": "execute_result"
    }
   ],
   "source": [
    "dirichlet_hgf.plot_network()"
   ]
  },
  {
   "cell_type": "code",
   "execution_count": 9,
   "id": "21f19974-9921-4c1f-a43d-3465666b93ac",
   "metadata": {},
   "outputs": [],
   "source": [
    "dirichlet_hgf.set_update_sequence();"
   ]
  },
  {
   "cell_type": "markdown",
   "id": "13714325-c11d-4636-bea5-b826252b529e",
   "metadata": {},
   "source": [
    "### Add observations to the network"
   ]
  },
  {
   "cell_type": "code",
   "execution_count": 10,
   "id": "76fe7ecf-838a-4a5c-b8d0-ca2ae6187edd",
   "metadata": {},
   "outputs": [
    {
     "name": "stderr",
     "output_type": "stream",
     "text": [
      "An NVIDIA GPU may be present on this machine, but a CUDA-enabled jaxlib is not installed. Falling back to cpu.\n"
     ]
    },
    {
     "name": "stdout",
     "output_type": "stream",
     "text": [
      "Step 1 - 1.0\n",
      "Creating new branch.\n",
      "Step 1 - 0.3678794503211975\n",
      "Step 2 - 0.3678794503211975\n",
      "Step 2.1 - 0.3678794503211975\n",
      "Step 2.2 - 0.3678794503211975\n",
      "Step 3 - 0.3678794503211975\n",
      "Creating new branch.\n",
      "Step 1 - 0.42085811495780945\n",
      "Step 2 - 0.42085811495780945\n",
      "Step 2.1 - 0.42085811495780945\n",
      "Step 2.2 - 0.42085811495780945\n",
      "Step 3 - 0.42085811495780945\n",
      "Creating new branch.\n",
      "Step 1 - 0.0\n",
      "Step 2 - 0.0\n",
      "Step 2.1 - 0.0\n",
      "Step 2.2 - 0.0\n",
      "Step 3 - 0.0\n",
      "Updating branch 7\n",
      "Step 1 - 0.0\n",
      "Step 2 - 0.0\n",
      "Step 2.1 - 0.0\n",
      "Step 2.2 - 0.0\n",
      "Step 3 - 0.0\n",
      "Updating branch 7\n",
      "Step 1 - 0.0\n",
      "Step 2 - 0.0\n",
      "Step 2.1 - 0.0\n",
      "Step 2.2 - 0.0\n",
      "Step 3 - 0.0\n",
      "Updating branch 7\n",
      "Step 1 - 0.0\n",
      "Step 2 - 0.0\n",
      "Step 2.1 - 0.0\n",
      "Step 2.2 - 0.0\n",
      "Step 3 - 0.0\n",
      "Updating branch 7\n",
      "Step 1 - 0.0\n",
      "Step 2 - 0.0\n",
      "Step 2.1 - 0.0\n",
      "Step 2.2 - 0.0\n",
      "Step 3 - 0.0\n",
      "Updating branch 7\n",
      "Step 1 - 0.0\n",
      "Step 2 - 0.0\n",
      "Step 2.1 - 0.0\n",
      "Step 2.2 - 0.0\n",
      "Step 3 - 0.0\n",
      "Updating branch 7\n",
      "Step 1 - 0.0\n",
      "Step 2 - 0.0\n",
      "Step 2.1 - 0.0\n",
      "Step 2.2 - 0.0\n",
      "Step 3 - 0.0\n",
      "Creating new branch.\n"
     ]
    }
   ],
   "source": [
    "for value in input_data[:10]:\n",
    "    for node_idx, update_fn in dirichlet_hgf.update_sequence:\n",
    "        if \"dirichlet\" in update_fn.__name__:\n",
    "            attributes = dirichlet_hgf.attributes\n",
    "            edges = dirichlet_hgf.edges\n",
    "            dirichlet_node = dirichlet_hgf.dirichlet_node\n",
    "            input_nodes_idx = dirichlet_hgf.input_nodes_idx\n",
    "\n",
    "            attributes, edges, input_nodes_idx, dirichlet_node = update_fn(\n",
    "                edges=edges,\n",
    "                attributes=attributes,\n",
    "                value=value,\n",
    "                time_step=1.0,\n",
    "                node_idx=node_idx,\n",
    "                dirichlet_node=dirichlet_node,\n",
    "                input_nodes_idx=input_nodes_idx,\n",
    "            )\n",
    "\n",
    "            dirichlet_hgf.attributes = attributes\n",
    "            dirichlet_hgf.edges = edges\n",
    "            dirichlet_hgf.input_nodes_idx = input_nodes_idx\n",
    "            dirichlet_hgf.dirichlet_node = dirichlet_node\n",
    "\n",
    "            dirichlet_hgf.set_update_sequence()\n",
    "\n",
    "        else:\n",
    "            attributes = dirichlet_hgf.attributes\n",
    "            edges = dirichlet_hgf.edges\n",
    "\n",
    "            attributes = update_fn(\n",
    "                attributes=attributes,\n",
    "                time_step=1.0,\n",
    "                node_idx=node_idx,\n",
    "                edges=edges,\n",
    "                value=value,\n",
    "                observed=1.0,\n",
    "            )\n",
    "\n",
    "            dirichlet_hgf.attributes = attributes"
   ]
  },
  {
   "cell_type": "markdown",
   "id": "3ac83c10-37c3-4d35-8f06-3a68c31f6d24",
   "metadata": {},
   "source": [
    "## Plotting results"
   ]
  },
  {
   "cell_type": "code",
   "execution_count": 11,
   "id": "99e04f75-c662-465c-a6a5-4b7f95193788",
   "metadata": {},
   "outputs": [
    {
     "data": {
      "image/png": "[encoded data removed]",
      "text/plain": [
       "<Figure size 800x500 with 1 Axes>"
      ]
     },
     "metadata": {},
     "output_type": "display_data"
    }
   ],
   "source": [
    "fig, ax = plt.subplots(figsize=(8, 5))\n",
    "for input_idx in dirichlet_hgf.dirichlet_node.cluster_input_idxs:\n",
    "    value_parent_idx = dirichlet_hgf.edges[input_idx].value_parents[0]\n",
    "    volatility_parent_idx = dirichlet_hgf.edges[input_idx].volatility_parents[0]\n",
    "\n",
    "    mean = dirichlet_hgf.attributes[value_parent_idx][\"expected_mean\"]\n",
    "\n",
    "    # the precision of the Gaussian is given by:\n",
    "    precision = attributes[input_idx][\"expected_precision\"]\n",
    "\n",
    "    ax.plot(\n",
    "        np.arange(-30, 30, 0.01),\n",
    "        norm(loc=mean, scale=np.sqrt(1 / precision)).pdf(np.arange(-30, 30, 0.01)),\n",
    "        label=f\"cluster - {input_idx}\",\n",
    "    )\n",
    "sns.histplot(x=input_data, alpha=0.2, ax=ax, stat=\"probability\")\n",
    "plt.legend()\n",
    "plt.show()"
   ]
  },
  {
   "cell_type": "code",
   "execution_count": 5,
   "id": "8473fa67-87cc-4432-8fa9-67cbb97afacb",
   "metadata": {},
   "outputs": [
    {
     "data": {
      "text/plain": [
       "[<matplotlib.lines.Line2D at 0x7f1b28f910a0>]"
      ]
     },
     "execution_count": 5,
     "metadata": {},
     "output_type": "execute_result"
    },
    {
     "data": {
      "image/png": "[encoded data removed]",
      "text/plain": [
       "<Figure size 640x480 with 1 Axes>"
      ]
     },
     "metadata": {},
     "output_type": "display_data"
    }
   ],
   "source": [
    "x = np.arange(-30, 30, 0.01)\n",
    "\n",
    "plt.plot(\n",
    "        x,\n",
    "        norm(loc=2, scale=1).pdf(x)/norm(loc=0, scale=1).pdf(x),\n",
    "    )"
   ]
  },
  {
   "cell_type": "code",
   "execution_count": 12,
   "id": "b270f022-9b9a-4961-b1b8-0688572e2a84",
   "metadata": {},
   "outputs": [
    {
     "data": {
      "image/svg+xml": [
       "<?xml version=\"1.0\" encoding=\"UTF-8\" standalone=\"no\"?>\n",
       "<!DOCTYPE svg PUBLIC \"-//W3C//DTD SVG 1.1//EN\"\n",
       " \"http://www.w3.org/Graphics/SVG/1.1/DTD/svg11.dtd\">\n",
       "<!-- Generated by graphviz version 8.0.5 (20230506.1012)\n",
       " -->\n",
       "<!-- Title: hgf&#45;nodes Pages: 1 -->\n",
       "<svg width=\"508pt\" height=\"325pt\"\n",
       " viewBox=\"0.00 0.00 507.85 325.20\" xmlns=\"http://www.w3.org/2000/svg\" xmlns:xlink=\"http://www.w3.org/1999/xlink\">\n",
       "<g id=\"graph0\" class=\"graph\" transform=\"scale(1 1) rotate(0) translate(4 321.2)\">\n",
       "<title>hgf&#45;nodes</title>\n",
       "<polygon fill=\"white\" stroke=\"none\" points=\"-4,4 -4,-321.2 503.85,-321.2 503.85,4 -4,4\"/>\n",
       "<!-- x_0 -->\n",
       "<g id=\"node1\" class=\"node\">\n",
       "<title>x_0</title>\n",
       "<ellipse fill=\"lightgrey\" stroke=\"black\" cx=\"235\" cy=\"-38.9\" rx=\"34.9\" ry=\"34.9\"/>\n",
       "<ellipse fill=\"none\" stroke=\"black\" cx=\"235\" cy=\"-38.9\" rx=\"38.9\" ry=\"38.9\"/>\n",
       "<text text-anchor=\"middle\" x=\"235\" y=\"-34.22\" font-family=\"Times,serif\" font-size=\"14.00\">DP&#45;0</text>\n",
       "</g>\n",
       "<!-- x_1 -->\n",
       "<g id=\"node2\" class=\"node\">\n",
       "<title>x_1</title>\n",
       "<ellipse fill=\"lightgrey\" stroke=\"black\" cx=\"63\" cy=\"-131.8\" rx=\"33.85\" ry=\"18\"/>\n",
       "<text text-anchor=\"middle\" x=\"63\" y=\"-127.12\" font-family=\"Times,serif\" font-size=\"14.00\">Co&#45;1</text>\n",
       "</g>\n",
       "<!-- x_1&#45;&gt;x_0 -->\n",
       "<g id=\"edge1\" class=\"edge\">\n",
       "<title>x_1&#45;&gt;x_0</title>\n",
       "<path fill=\"none\" stroke=\"black\" d=\"M86.56,-118.35C113.44,-104.14 157.97,-80.61 191.27,-63.01\"/>\n",
       "<polygon fill=\"black\" stroke=\"black\" points=\"192.56,-65.76 199.77,-57.99 189.29,-59.57 192.56,-65.76\"/>\n",
       "</g>\n",
       "<!-- x_4 -->\n",
       "<g id=\"node3\" class=\"node\">\n",
       "<title>x_4</title>\n",
       "<ellipse fill=\"lightgrey\" stroke=\"black\" cx=\"149\" cy=\"-131.8\" rx=\"33.85\" ry=\"18\"/>\n",
       "<text text-anchor=\"middle\" x=\"149\" y=\"-127.12\" font-family=\"Times,serif\" font-size=\"14.00\">Co&#45;4</text>\n",
       "</g>\n",
       "<!-- x_4&#45;&gt;x_0 -->\n",
       "<g id=\"edge2\" class=\"edge\">\n",
       "<title>x_4&#45;&gt;x_0</title>\n",
       "<path fill=\"none\" stroke=\"black\" d=\"M163.59,-115.38C173.84,-104.54 188,-89.57 201.01,-75.83\"/>\n",
       "<polygon fill=\"black\" stroke=\"black\" points=\"203.17,-78.58 207.5,-68.91 198.08,-73.77 203.17,-78.58\"/>\n",
       "</g>\n",
       "<!-- x_7 -->\n",
       "<g id=\"node4\" class=\"node\">\n",
       "<title>x_7</title>\n",
       "<ellipse fill=\"lightgrey\" stroke=\"black\" cx=\"235\" cy=\"-131.8\" rx=\"33.85\" ry=\"18\"/>\n",
       "<text text-anchor=\"middle\" x=\"235\" y=\"-127.12\" font-family=\"Times,serif\" font-size=\"14.00\">Co&#45;7</text>\n",
       "</g>\n",
       "<!-- x_7&#45;&gt;x_0 -->\n",
       "<g id=\"edge3\" class=\"edge\">\n",
       "<title>x_7&#45;&gt;x_0</title>\n",
       "<path fill=\"none\" stroke=\"black\" d=\"M235,-113.7C235,-106.53 235,-97.8 235,-88.89\"/>\n",
       "<polygon fill=\"black\" stroke=\"black\" points=\"238.5,-89.02 235,-79.02 231.5,-89.02 238.5,-89.02\"/>\n",
       "</g>\n",
       "<!-- x_10 -->\n",
       "<g id=\"node5\" class=\"node\">\n",
       "<title>x_10</title>\n",
       "<ellipse fill=\"lightgrey\" stroke=\"black\" cx=\"327\" cy=\"-131.8\" rx=\"40.16\" ry=\"18\"/>\n",
       "<text text-anchor=\"middle\" x=\"327\" y=\"-127.12\" font-family=\"Times,serif\" font-size=\"14.00\">Co&#45;10</text>\n",
       "</g>\n",
       "<!-- x_10&#45;&gt;x_0 -->\n",
       "<g id=\"edge4\" class=\"edge\">\n",
       "<title>x_10&#45;&gt;x_0</title>\n",
       "<path fill=\"none\" stroke=\"black\" d=\"M310.97,-114.96C299.68,-103.81 284.12,-88.43 270.02,-74.5\"/>\n",
       "<polygon fill=\"black\" stroke=\"black\" points=\"272.94,-72.48 263.37,-67.94 268.02,-77.46 272.94,-72.48\"/>\n",
       "</g>\n",
       "<!-- x_13 -->\n",
       "<g id=\"node6\" class=\"node\">\n",
       "<title>x_13</title>\n",
       "<ellipse fill=\"lightgrey\" stroke=\"black\" cx=\"425\" cy=\"-131.8\" rx=\"40.16\" ry=\"18\"/>\n",
       "<text text-anchor=\"middle\" x=\"425\" y=\"-127.12\" font-family=\"Times,serif\" font-size=\"14.00\">Co&#45;13</text>\n",
       "</g>\n",
       "<!-- x_13&#45;&gt;x_0 -->\n",
       "<g id=\"edge5\" class=\"edge\">\n",
       "<title>x_13&#45;&gt;x_0</title>\n",
       "<path fill=\"none\" stroke=\"black\" d=\"M398.18,-117.97C367.38,-103.23 316.37,-78.83 279.58,-61.22\"/>\n",
       "<polygon fill=\"black\" stroke=\"black\" points=\"281.61,-57.84 271.08,-56.68 278.59,-64.15 281.61,-57.84\"/>\n",
       "</g>\n",
       "<!-- x_2 -->\n",
       "<g id=\"node7\" class=\"node\">\n",
       "<title>x_2</title>\n",
       "<ellipse fill=\"none\" stroke=\"black\" cx=\"18\" cy=\"-209.65\" rx=\"18\" ry=\"18\"/>\n",
       "<text text-anchor=\"middle\" x=\"18\" y=\"-204.97\" font-family=\"Times,serif\" font-size=\"14.00\">2</text>\n",
       "</g>\n",
       "<!-- x_2&#45;&gt;x_1 -->\n",
       "<g id=\"edge6\" class=\"edge\">\n",
       "<title>x_2&#45;&gt;x_1</title>\n",
       "<path fill=\"none\" stroke=\"black\" d=\"M26.89,-193.66C32.81,-183.68 40.75,-170.3 47.68,-158.62\"/>\n",
       "<polygon fill=\"black\" stroke=\"black\" points=\"51.1,-160.72 53.19,-150.33 45.08,-157.15 51.1,-160.72\"/>\n",
       "</g>\n",
       "<!-- x_3 -->\n",
       "<g id=\"node8\" class=\"node\">\n",
       "<title>x_3</title>\n",
       "<ellipse fill=\"none\" stroke=\"black\" cx=\"64\" cy=\"-293.35\" rx=\"18\" ry=\"18\"/>\n",
       "<text text-anchor=\"middle\" x=\"64\" y=\"-288.67\" font-family=\"Times,serif\" font-size=\"14.00\">3</text>\n",
       "</g>\n",
       "<!-- x_3&#45;&gt;x_1 -->\n",
       "<g id=\"edge7\" class=\"edge\">\n",
       "<title>x_3&#45;&gt;x_1</title>\n",
       "<path fill=\"none\" stroke=\"gray\" stroke-dasharray=\"5,2\" d=\"M63.89,-274.97C63.72,-246.92 63.37,-191.49 63.16,-158.75\"/>\n",
       "<ellipse fill=\"gray\" stroke=\"gray\" cx=\"63.14\" cy=\"-154.65\" rx=\"4\" ry=\"4\"/>\n",
       "</g>\n",
       "<!-- x_5 -->\n",
       "<g id=\"node9\" class=\"node\">\n",
       "<title>x_5</title>\n",
       "<ellipse fill=\"none\" stroke=\"black\" cx=\"121\" cy=\"-209.65\" rx=\"18\" ry=\"18\"/>\n",
       "<text text-anchor=\"middle\" x=\"121\" y=\"-204.97\" font-family=\"Times,serif\" font-size=\"14.00\">5</text>\n",
       "</g>\n",
       "<!-- x_5&#45;&gt;x_4 -->\n",
       "<g id=\"edge8\" class=\"edge\">\n",
       "<title>x_5&#45;&gt;x_4</title>\n",
       "<path fill=\"none\" stroke=\"black\" d=\"M127.08,-192.19C130.55,-182.78 134.99,-170.74 138.97,-159.96\"/>\n",
       "<polygon fill=\"black\" stroke=\"black\" points=\"142.56,-161.34 142.74,-150.75 136,-158.92 142.56,-161.34\"/>\n",
       "</g>\n",
       "<!-- x_6 -->\n",
       "<g id=\"node10\" class=\"node\">\n",
       "<title>x_6</title>\n",
       "<ellipse fill=\"none\" stroke=\"black\" cx=\"167\" cy=\"-293.35\" rx=\"18\" ry=\"18\"/>\n",
       "<text text-anchor=\"middle\" x=\"167\" y=\"-288.67\" font-family=\"Times,serif\" font-size=\"14.00\">6</text>\n",
       "</g>\n",
       "<!-- x_6&#45;&gt;x_4 -->\n",
       "<g id=\"edge9\" class=\"edge\">\n",
       "<title>x_6&#45;&gt;x_4</title>\n",
       "<path fill=\"none\" stroke=\"gray\" stroke-dasharray=\"5,2\" d=\"M165.04,-274.97C161.87,-246.92 155.62,-191.49 151.93,-158.75\"/>\n",
       "<ellipse fill=\"gray\" stroke=\"gray\" cx=\"151.46\" cy=\"-154.63\" rx=\"4\" ry=\"4\"/>\n",
       "</g>\n",
       "<!-- x_8 -->\n",
       "<g id=\"node11\" class=\"node\">\n",
       "<title>x_8</title>\n",
       "<ellipse fill=\"none\" stroke=\"black\" cx=\"218\" cy=\"-209.65\" rx=\"18\" ry=\"18\"/>\n",
       "<text text-anchor=\"middle\" x=\"218\" y=\"-204.97\" font-family=\"Times,serif\" font-size=\"14.00\">8</text>\n",
       "</g>\n",
       "<!-- x_8&#45;&gt;x_7 -->\n",
       "<g id=\"edge10\" class=\"edge\">\n",
       "<title>x_8&#45;&gt;x_7</title>\n",
       "<path fill=\"none\" stroke=\"black\" d=\"M221.77,-191.81C223.81,-182.71 226.39,-171.23 228.72,-160.82\"/>\n",
       "<polygon fill=\"black\" stroke=\"black\" points=\"232.35,-161.63 231.12,-151.11 225.52,-160.1 232.35,-161.63\"/>\n",
       "</g>\n",
       "<!-- x_9 -->\n",
       "<g id=\"node12\" class=\"node\">\n",
       "<title>x_9</title>\n",
       "<ellipse fill=\"none\" stroke=\"black\" cx=\"264\" cy=\"-293.35\" rx=\"18\" ry=\"18\"/>\n",
       "<text text-anchor=\"middle\" x=\"264\" y=\"-288.67\" font-family=\"Times,serif\" font-size=\"14.00\">9</text>\n",
       "</g>\n",
       "<!-- x_9&#45;&gt;x_7 -->\n",
       "<g id=\"edge11\" class=\"edge\">\n",
       "<title>x_9&#45;&gt;x_7</title>\n",
       "<path fill=\"none\" stroke=\"gray\" stroke-dasharray=\"5,2\" d=\"M261.02,-275.36C257.33,-254.33 250.8,-217.4 245,-185.8 243.39,-177 241.59,-167.4 239.96,-158.81\"/>\n",
       "<ellipse fill=\"gray\" stroke=\"gray\" cx=\"239.12\" cy=\"-154.4\" rx=\"4\" ry=\"4\"/>\n",
       "</g>\n",
       "<!-- x_11 -->\n",
       "<g id=\"node13\" class=\"node\">\n",
       "<title>x_11</title>\n",
       "<ellipse fill=\"none\" stroke=\"black\" cx=\"319\" cy=\"-209.65\" rx=\"23.85\" ry=\"23.85\"/>\n",
       "<text text-anchor=\"middle\" x=\"319\" y=\"-204.97\" font-family=\"Times,serif\" font-size=\"14.00\">11</text>\n",
       "</g>\n",
       "<!-- x_11&#45;&gt;x_10 -->\n",
       "<g id=\"edge12\" class=\"edge\">\n",
       "<title>x_11&#45;&gt;x_10</title>\n",
       "<path fill=\"none\" stroke=\"black\" d=\"M321.44,-185.48C322.27,-177.66 323.2,-168.85 324.06,-160.71\"/>\n",
       "<polygon fill=\"black\" stroke=\"black\" points=\"327.64,-161.12 325.21,-150.81 320.68,-160.39 327.64,-161.12\"/>\n",
       "</g>\n",
       "<!-- x_12 -->\n",
       "<g id=\"node14\" class=\"node\">\n",
       "<title>x_12</title>\n",
       "<ellipse fill=\"none\" stroke=\"black\" cx=\"371\" cy=\"-293.35\" rx=\"23.85\" ry=\"23.85\"/>\n",
       "<text text-anchor=\"middle\" x=\"371\" y=\"-288.67\" font-family=\"Times,serif\" font-size=\"14.00\">12</text>\n",
       "</g>\n",
       "<!-- x_12&#45;&gt;x_10 -->\n",
       "<g id=\"edge13\" class=\"edge\">\n",
       "<title>x_12&#45;&gt;x_10</title>\n",
       "<path fill=\"none\" stroke=\"gray\" stroke-dasharray=\"5,2\" d=\"M368.69,-269.48C366.08,-247.61 360.96,-213.9 352,-185.8 348.96,-176.25 344.55,-166.2 340.29,-157.45\"/>\n",
       "<ellipse fill=\"gray\" stroke=\"gray\" cx=\"338.31\" cy=\"-153.54\" rx=\"4\" ry=\"4\"/>\n",
       "</g>\n",
       "<!-- x_14 -->\n",
       "<g id=\"node15\" class=\"node\">\n",
       "<title>x_14</title>\n",
       "<ellipse fill=\"none\" stroke=\"black\" cx=\"424\" cy=\"-209.65\" rx=\"23.85\" ry=\"23.85\"/>\n",
       "<text text-anchor=\"middle\" x=\"424\" y=\"-204.97\" font-family=\"Times,serif\" font-size=\"14.00\">14</text>\n",
       "</g>\n",
       "<!-- x_14&#45;&gt;x_13 -->\n",
       "<g id=\"edge14\" class=\"edge\">\n",
       "<title>x_14&#45;&gt;x_13</title>\n",
       "<path fill=\"none\" stroke=\"black\" d=\"M424.31,-185.48C424.41,-177.78 424.52,-169.12 424.63,-161.08\"/>\n",
       "<polygon fill=\"black\" stroke=\"black\" points=\"428.14,-161.33 424.77,-151.29 421.14,-161.24 428.14,-161.33\"/>\n",
       "</g>\n",
       "<!-- x_15 -->\n",
       "<g id=\"node16\" class=\"node\">\n",
       "<title>x_15</title>\n",
       "<ellipse fill=\"none\" stroke=\"black\" cx=\"476\" cy=\"-293.35\" rx=\"23.85\" ry=\"23.85\"/>\n",
       "<text text-anchor=\"middle\" x=\"476\" y=\"-288.67\" font-family=\"Times,serif\" font-size=\"14.00\">15</text>\n",
       "</g>\n",
       "<!-- x_15&#45;&gt;x_13 -->\n",
       "<g id=\"edge15\" class=\"edge\">\n",
       "<title>x_15&#45;&gt;x_13</title>\n",
       "<path fill=\"none\" stroke=\"gray\" stroke-dasharray=\"5,2\" d=\"M474.33,-269.26C472.18,-247.23 467.39,-213.41 457,-185.8 453.19,-175.68 447.44,-165.34 441.86,-156.5\"/>\n",
       "<ellipse fill=\"gray\" stroke=\"gray\" cx=\"439.52\" cy=\"-152.93\" rx=\"4\" ry=\"4\"/>\n",
       "</g>\n",
       "</g>\n",
       "</svg>\n"
      ],
      "text/plain": [
       "<graphviz.sources.Source at 0x7fb75c81fc70>"
      ]
     },
     "execution_count": 12,
     "metadata": {},
     "output_type": "execute_result"
    }
   ],
   "source": [
    "dirichlet_hgf.plot_network()"
   ]
  },
  {
   "cell_type": "code",
   "execution_count": 13,
   "id": "8d9ae3d2-e354-4fb4-afb9-abbc7300132e",
   "metadata": {},
   "outputs": [
    {
     "data": {
      "text/plain": [
       "{'n': [1, 1, 7, 1, 0],\n",
       " 'n_total': 10,\n",
       " 'n_clusters': 4,\n",
       " 'alpha': 0.5,\n",
       " 'value_coupling_parents': (1.0, 1.0, 1.0, 1.0, 1.0)}"
      ]
     },
     "execution_count": 13,
     "metadata": {},
     "output_type": "execute_result"
    }
   ],
   "source": [
    "dirichlet_hgf.attributes[0]"
   ]
  },
  {
   "cell_type": "markdown",
   "id": "d0cde87e-d2ec-43ad-bd32-df0893fe334b",
   "metadata": {},
   "source": [
    "## Using a Dirichlet process node\n",
    "\n",
    "A Dirichlet node has the following parameters:\n",
    "- $\\sigma_\\xi$, the default cluster precision.\n",
    "- $\\alpha$, the concentration parameter.\n",
    "- $\\pi_i = \\frac{n_i}{\\alpha + k - 1}$\n",
    "- $k$ the current number of clusters\n",
    "- $n_i$ the number of observations in cluster $C_i$"
   ]
  },
  {
   "cell_type": "markdown",
   "id": "02715b26-184a-497c-a7a5-d2705022bd95",
   "metadata": {},
   "source": [
    "A Dirichlet process over a measurable set $S$ is specifided by a base distribution $H$ and a concentration parameter $\\alpha$. In pyhgf, the base distribution is a tree probabilistic neural network that can operate over $S$. When a new set is observed, the Dirichlet node will chose between the following alternatives:\n",
    "\n",
    "1. Create a new cluster $C_n$ with probability:\n",
    "    - $\\frac{\\alpha}{\\alpha + n - 1}p(x|\\mu_n, \\sigma_n)$\n",
    "    - with $\\mu_n = x$ and $\\sigma_n = \\sigma_\\xi$\n",
    "2. Merge two cluster $j$ and $k$ into a new cluster $l$ if:\n",
    "    - $p(x|\\mu_l, \\sigma_l)\\pi_l < p(x|\\mu_k, \\sigma_k)\\pi_k + p(x|\\mu_j, \\sigma_j)\\pi_j$\n",
    "    - $\\mu_l = \\frac{\\mu_j + \\mu_k}{2}$\n",
    "    - $\\sigma_l = \\frac{\\sigma_j + \\sigma_k}{2}$\n",
    "    - $\\pi_l = \\frac{n_j + n_k}{\\alpha + k - 1}$\n",
    "3. Otherwise, sample from cluster $C_i$ where:\n",
    "    - $p(x|\\mu_i, \\sigma_i)\\pi_i \\le p(x|\\mu_j, \\sigma_j)\\pi_j \\forall j \\in C $."
   ]
  },
  {
   "cell_type": "markdown",
   "id": "6fbfdc69-46e2-4efd-af21-0770edb42007",
   "metadata": {},
   "source": [
    "First we start by defining the base distribution $H$. This requires use to detail how the node can create a new distribution, and how to update this distribution. Those steps are declared in the function `base_distribution` and the variable `cluster_updates` (respectively)."
   ]
  },
  {
   "cell_type": "markdown",
   "id": "4b8a79c6-cb23-4e50-b6dc-cfce3084eaa3",
   "metadata": {},
   "source": [
    "fig, ax = plt.subplots();\n",
    "def update(frame):\n",
    "    ax.cla()\n",
    "    sns.histplot(x=input_data[:frame], alpha=.2, bins=40, ax=ax);\n",
    "    ax.scatter(input_data[frame], -.5, alpha=.5)\n",
    "\n",
    "animation = FuncAnimation(fig, update, frames=range(len(input_data)), interval=100)\n",
    "display(HTML(animation.to_jshtml()))"
   ]
  },
  {
   "cell_type": "code",
   "execution_count": null,
   "id": "ff4f4513-8dff-455a-aff7-0dc1a27a3289",
   "metadata": {},
   "outputs": [],
   "source": []
  }
 ],
 "metadata": {
  "kernelspec": {
   "display_name": "Python 3 (ipykernel)",
   "language": "python",
   "name": "python3"
  },
  "language_info": {
   "codemirror_mode": {
    "name": "ipython",
    "version": 3
   },
   "file_extension": ".py",
   "mimetype": "text/x-python",
   "name": "python",
   "nbconvert_exporter": "python",
   "pygments_lexer": "ipython3",
   "version": "3.12.3"
  }
 },
 "nbformat": 4,
 "nbformat_minor": 5
}
